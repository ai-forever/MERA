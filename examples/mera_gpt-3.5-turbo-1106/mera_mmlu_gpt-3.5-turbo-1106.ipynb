{
 "cells": [
  {
   "cell_type": "markdown",
   "metadata": {
    "id": "H6gQpNB5Pxpj"
   },
   "source": [
    "# MERA\n",
    "MERA (Multimodal Evaluation for Russian-language Architectures) is a new open benchmark for the Russian language for evaluating fundamental models.\n",
    "\n",
    "The MERA benchmark includes 21 text tasks (17 base tasks + 4 diagnostic tasks). See the [task-table](https://mera.a-ai.ru/tasks) for a complete list."
   ]
  },
  {
   "cell_type": "code",
   "execution_count": null,
   "metadata": {
    "id": "uykm-H-3P7nu"
   },
   "outputs": [],
   "source": [
    "!pip install datasets"
   ]
  },
  {
   "cell_type": "code",
   "execution_count": 4,
   "metadata": {
    "id": "4sUvbobdP5gk"
   },
   "outputs": [],
   "source": [
    "from datasets import load_dataset\n",
    "\n",
    "DATASET_PATH = \"ai-forever/MERA\"\n",
    "\n",
    "# dataset names in low-case and n-shots\n",
    "task_name_few_shot = {\n",
    "    \"chegeka\": 4,\n",
    "    \"bps\": 2,\n",
    "    \"lcs\":2,\n",
    "    \"mathlogicqa\": 5,\n",
    "    \"ruworldtree\": 5,\n",
    "    \"ruopenbookqa\": 5,\n",
    "    \"simplear\": 5,\n",
    "    \"rumultiar\": 5,\n",
    "    \"rummlu\": 5,\n",
    "    \"multiq\": 0,\n",
    "    \"parus\": 0,\n",
    "    \"rcb\": 0,\n",
    "    \"rumodar\": 0,\n",
    "    \"rwsd\": 0,\n",
    "    \"use\": 0,\n",
    "    \"rudetox\": 0,\n",
    "    \"ruethics\": 0,\n",
    "    \"ruhatespeech\": 0,\n",
    "    \"ruhhh\": 0,\n",
    "    \"rutie\": 0,\n",
    "    \"ruhumaneval\": 0,\n",
    "}\n",
    "task_names = list(task_name_few_shot.keys())\n",
    "#rummlu\n",
    "task_names = [task_names[8]]"
   ]
  },
  {
   "cell_type": "code",
   "execution_count": null,
   "metadata": {
    "id": "XsUX2hH-KFEp"
   },
   "outputs": [],
   "source": [
    "!pip install openai"
   ]
  },
  {
   "cell_type": "code",
   "execution_count": 6,
   "metadata": {
    "colab": {
     "base_uri": "https://localhost:8080/"
    },
    "id": "GpBAdQoAQREm",
    "outputId": "64a66cc4-84bf-4f38-8655-9e623e4cb108"
   },
   "outputs": [
    {
     "data": {
      "text/plain": [
       "<openai.OpenAI at 0x7df94215e650>"
      ]
     },
     "execution_count": 6,
     "metadata": {},
     "output_type": "execute_result"
    }
   ],
   "source": [
    "from openai import OpenAI\n",
    "\n",
    "client = OpenAI(\n",
    "    # defaults to os.environ.get(\"OPENAI_API_KEY\")\n",
    "    api_key=\"\",\n",
    ")\n",
    "client"
   ]
  },
  {
   "cell_type": "code",
   "execution_count": 5,
   "metadata": {
    "id": "_jZZxQffQCQX"
   },
   "outputs": [],
   "source": [
    "import abc\n",
    "import typing as tp\n",
    "\n",
    "class Conversation(abc.ABC):\n",
    "    \"\"\"\n",
    "    Inspired by https://github.com/lm-sys/FastChat/blob/main/fastchat/conversation.py\n",
    "    \"\"\"\n",
    "    def __init__(self, system_prompt: str = \"\", roles: tp.Tuple[str, str] = (\"user\", \"assistant\")):\n",
    "        self.system_prompt = system_prompt\n",
    "        self.roles = roles\n",
    "        self.messages: tp.List[tp.List[str, str]] = []\n",
    "\n",
    "    def get_prompt(self) -> str:\n",
    "        pass\n",
    "\n",
    "    def update_last_message(self, text: str) -> None:\n",
    "        self.messages[-1] = (self.messages[-1][0], text)\n",
    "\n",
    "    def append_message(self, role: str, text: str) -> None:\n",
    "        self.messages.append({\"role\":role, \"content\":text})"
   ]
  },
  {
   "cell_type": "code",
   "execution_count": 17,
   "metadata": {
    "colab": {
     "base_uri": "https://localhost:8080/",
     "height": 49,
     "referenced_widgets": [
      "d2d0ca84a905440fa22020744e765955",
      "feb07d9cb8f04c17b735eec1023c347b",
      "326bf7a2161f4d029cca3d43f5b181dc",
      "085aeeecd0634bfb82ffc2f38196c3c3",
      "f8839dfb05954c4a974d1c6df8658d47",
      "2c937566c51f4ab7b77e33b3f9dd66d0",
      "bc5756f097064b38962ffa2a3673f925",
      "9404af81c6d44ded8a26358acb2c9ad0",
      "ce9331d6bf204435868d2109f9f61782",
      "ab73fb5b07a04fd6943a4a364b50bee9",
      "f0ea89420d264d0787919f9cf0c1ecda"
     ]
    },
    "id": "QOgvxMMFQFp8",
    "outputId": "bf17c64e-116e-4457-c87b-27726a921ec1"
   },
   "outputs": [
    {
     "data": {
      "application/vnd.jupyter.widget-view+json": {
       "model_id": "d2d0ca84a905440fa22020744e765955",
       "version_major": 2,
       "version_minor": 0
      },
      "text/plain": [
       "rummlu:   0%|          | 0/961 [00:00<?, ?it/s]"
      ]
     },
     "metadata": {},
     "output_type": "display_data"
    }
   ],
   "source": [
    "from tqdm.auto import tqdm\n",
    "import numpy as np\n",
    "import json\n",
    "import pathlib\n",
    "\n",
    "output_dir = \"mera_openai\"\n",
    "pathlib.Path(output_dir).mkdir(parents=True, exist_ok=True)\n",
    "\n",
    "def append_to_jsonl(data: list, filename: str) -> None:\n",
    "    with open(filename, \"a\") as f:\n",
    "        f.write(json.dumps(data) + \"\\n\")\n",
    "\n",
    "def get_prompt_from_dataframes(task_name, row, dev_df, k_shot):\n",
    "    assert 0 <= k_shot <= 5\n",
    "    if task_name == \"rummlu\":\n",
    "        row_domain = row[\"meta\"][\"domain\"]\n",
    "        k_shot_df = dev_df[dev_df.apply(lambda x: x[\"meta\"][\"domain\"]==row_domain, axis=1)].head(k_shot)\n",
    "        k_shot_text = \"\\n\".join(k_shot_df[\"inputs\"].apply(lambda x: \"{text}\\nA) {option_a}\\nB) {option_b}\\nC) {option_c}\\nD) {option_d}\\nОтвет:\".format(**x)) + k_shot_df[\"outputs\"])\n",
    "        row[\"inputs\"][\"text\"] = k_shot_text + \"\\n\" + row[\"inputs\"][\"text\"]\n",
    "\n",
    "    if isinstance(row[\"inputs\"], dict):\n",
    "        row_prompt = row[\"instruction\"].format(**row[\"inputs\"])\n",
    "    else:\n",
    "        row_prompt = row[\"instruction\"].format(inputs=row[\"inputs\"])\n",
    "\n",
    "    conv = Conversation()\n",
    "    conv.append_message(conv.roles[0], row_prompt)\n",
    "    return conv.messages\n",
    "\n",
    "for task_name in task_names:\n",
    "    k_shot = task_name_few_shot[task_name]\n",
    "    ds = load_dataset(DATASET_PATH, task_name)\n",
    "    test_df = ds[\"test\"].to_pandas()\n",
    "\n",
    "    dev_df = None\n",
    "    if \"train\" in ds.column_names:\n",
    "        dev_df = ds[\"train\"].to_pandas()\n",
    "\n",
    "    js_out = {\"data\": {\"test\": []}}\n",
    "    for idx, row in tqdm(test_df.iterrows(), total=len(test_df), desc=task_name):\n",
    "        input_messages = get_prompt_from_dataframes(task_name, row, dev_df, k_shot)\n",
    "        chat_params = {\n",
    "            \"model\": \"gpt-3.5-turbo-1106\",\n",
    "            \"messages\": input_messages,\n",
    "            \"max_tokens\": 1,\n",
    "        }\n",
    "        chat_completion = client.chat.completions.create(**chat_params)\n",
    "\n",
    "        preds = {\"A\":0, \"B\":0, \"C\":0, \"D\":0}\n",
    "        pred = chat_completion.choices[0].message.content\n",
    "        if pred in preds.keys():\n",
    "            preds[pred] = 1\n",
    "        else:\n",
    "            print(\"empty response\", row[\"meta\"][\"id\"])\n",
    "\n",
    "        if task_name == \"rummlu\":\n",
    "            best_idx = np.argmax(list(preds.values()))\n",
    "            y_pred = list(preds.keys())[best_idx]\n",
    "            js_out[\"data\"][\"test\"].append({\"outputs\": y_pred, \"meta\": {\"id\": row[\"meta\"][\"id\"]}})\n",
    "\n",
    "\n",
    "    if task_name == \"rummlu\":\n",
    "        task_out_filename = \"ruMMLU\"\n",
    "        jsonl_filepath = str(pathlib.Path(output_dir) / f\"{task_out_filename}.json\")\n",
    "\n",
    "    with open(jsonl_filepath, \"w\") as f:\n",
    "        f.write(json.dumps(js_out, indent=4))"
   ]
  },
  {
   "cell_type": "markdown",
   "metadata": {
    "id": "zMuEGKuRSIY7"
   },
   "source": [
    "|Модель| Задача| Результат  | Метрика  |\n",
    "|---|---|---|---|\n",
    "|  Human Benchmark | ruMMLU |  **0.898** |  Accuracy |\n",
    "|  gpt-3.5-turbo-1106 | ruMMLU |  **0.743** |  Accuracy |"
   ]
  },
  {
   "cell_type": "code",
   "execution_count": null,
   "metadata": {},
   "outputs": [],
   "source": []
  }
 ],
 "metadata": {
  "colab": {
   "provenance": []
  },
  "kernelspec": {
   "display_name": "Python 3 (ipykernel)",
   "language": "python",
   "name": "python3"
  },
  "language_info": {
   "codemirror_mode": {
    "name": "ipython",
    "version": 3
   },
   "file_extension": ".py",
   "mimetype": "text/x-python",
   "name": "python",
   "nbconvert_exporter": "python",
   "pygments_lexer": "ipython3",
   "version": "3.10.12"
  },
  "widgets": {
   "application/vnd.jupyter.widget-state+json": {
    "085aeeecd0634bfb82ffc2f38196c3c3": {
     "model_module": "@jupyter-widgets/controls",
     "model_module_version": "1.5.0",
     "model_name": "HTMLModel",
     "state": {
      "_dom_classes": [],
      "_model_module": "@jupyter-widgets/controls",
      "_model_module_version": "1.5.0",
      "_model_name": "HTMLModel",
      "_view_count": null,
      "_view_module": "@jupyter-widgets/controls",
      "_view_module_version": "1.5.0",
      "_view_name": "HTMLView",
      "description": "",
      "description_tooltip": null,
      "layout": "IPY_MODEL_ab73fb5b07a04fd6943a4a364b50bee9",
      "placeholder": "​",
      "style": "IPY_MODEL_f0ea89420d264d0787919f9cf0c1ecda",
      "value": " 961/961 [1:26:22&lt;00:00,  1.60it/s]"
     }
    },
    "2c937566c51f4ab7b77e33b3f9dd66d0": {
     "model_module": "@jupyter-widgets/base",
     "model_module_version": "1.2.0",
     "model_name": "LayoutModel",
     "state": {
      "_model_module": "@jupyter-widgets/base",
      "_model_module_version": "1.2.0",
      "_model_name": "LayoutModel",
      "_view_count": null,
      "_view_module": "@jupyter-widgets/base",
      "_view_module_version": "1.2.0",
      "_view_name": "LayoutView",
      "align_content": null,
      "align_items": null,
      "align_self": null,
      "border": null,
      "bottom": null,
      "display": null,
      "flex": null,
      "flex_flow": null,
      "grid_area": null,
      "grid_auto_columns": null,
      "grid_auto_flow": null,
      "grid_auto_rows": null,
      "grid_column": null,
      "grid_gap": null,
      "grid_row": null,
      "grid_template_areas": null,
      "grid_template_columns": null,
      "grid_template_rows": null,
      "height": null,
      "justify_content": null,
      "justify_items": null,
      "left": null,
      "margin": null,
      "max_height": null,
      "max_width": null,
      "min_height": null,
      "min_width": null,
      "object_fit": null,
      "object_position": null,
      "order": null,
      "overflow": null,
      "overflow_x": null,
      "overflow_y": null,
      "padding": null,
      "right": null,
      "top": null,
      "visibility": null,
      "width": null
     }
    },
    "326bf7a2161f4d029cca3d43f5b181dc": {
     "model_module": "@jupyter-widgets/controls",
     "model_module_version": "1.5.0",
     "model_name": "FloatProgressModel",
     "state": {
      "_dom_classes": [],
      "_model_module": "@jupyter-widgets/controls",
      "_model_module_version": "1.5.0",
      "_model_name": "FloatProgressModel",
      "_view_count": null,
      "_view_module": "@jupyter-widgets/controls",
      "_view_module_version": "1.5.0",
      "_view_name": "ProgressView",
      "bar_style": "success",
      "description": "",
      "description_tooltip": null,
      "layout": "IPY_MODEL_9404af81c6d44ded8a26358acb2c9ad0",
      "max": 961,
      "min": 0,
      "orientation": "horizontal",
      "style": "IPY_MODEL_ce9331d6bf204435868d2109f9f61782",
      "value": 961
     }
    },
    "9404af81c6d44ded8a26358acb2c9ad0": {
     "model_module": "@jupyter-widgets/base",
     "model_module_version": "1.2.0",
     "model_name": "LayoutModel",
     "state": {
      "_model_module": "@jupyter-widgets/base",
      "_model_module_version": "1.2.0",
      "_model_name": "LayoutModel",
      "_view_count": null,
      "_view_module": "@jupyter-widgets/base",
      "_view_module_version": "1.2.0",
      "_view_name": "LayoutView",
      "align_content": null,
      "align_items": null,
      "align_self": null,
      "border": null,
      "bottom": null,
      "display": null,
      "flex": null,
      "flex_flow": null,
      "grid_area": null,
      "grid_auto_columns": null,
      "grid_auto_flow": null,
      "grid_auto_rows": null,
      "grid_column": null,
      "grid_gap": null,
      "grid_row": null,
      "grid_template_areas": null,
      "grid_template_columns": null,
      "grid_template_rows": null,
      "height": null,
      "justify_content": null,
      "justify_items": null,
      "left": null,
      "margin": null,
      "max_height": null,
      "max_width": null,
      "min_height": null,
      "min_width": null,
      "object_fit": null,
      "object_position": null,
      "order": null,
      "overflow": null,
      "overflow_x": null,
      "overflow_y": null,
      "padding": null,
      "right": null,
      "top": null,
      "visibility": null,
      "width": null
     }
    },
    "ab73fb5b07a04fd6943a4a364b50bee9": {
     "model_module": "@jupyter-widgets/base",
     "model_module_version": "1.2.0",
     "model_name": "LayoutModel",
     "state": {
      "_model_module": "@jupyter-widgets/base",
      "_model_module_version": "1.2.0",
      "_model_name": "LayoutModel",
      "_view_count": null,
      "_view_module": "@jupyter-widgets/base",
      "_view_module_version": "1.2.0",
      "_view_name": "LayoutView",
      "align_content": null,
      "align_items": null,
      "align_self": null,
      "border": null,
      "bottom": null,
      "display": null,
      "flex": null,
      "flex_flow": null,
      "grid_area": null,
      "grid_auto_columns": null,
      "grid_auto_flow": null,
      "grid_auto_rows": null,
      "grid_column": null,
      "grid_gap": null,
      "grid_row": null,
      "grid_template_areas": null,
      "grid_template_columns": null,
      "grid_template_rows": null,
      "height": null,
      "justify_content": null,
      "justify_items": null,
      "left": null,
      "margin": null,
      "max_height": null,
      "max_width": null,
      "min_height": null,
      "min_width": null,
      "object_fit": null,
      "object_position": null,
      "order": null,
      "overflow": null,
      "overflow_x": null,
      "overflow_y": null,
      "padding": null,
      "right": null,
      "top": null,
      "visibility": null,
      "width": null
     }
    },
    "bc5756f097064b38962ffa2a3673f925": {
     "model_module": "@jupyter-widgets/controls",
     "model_module_version": "1.5.0",
     "model_name": "DescriptionStyleModel",
     "state": {
      "_model_module": "@jupyter-widgets/controls",
      "_model_module_version": "1.5.0",
      "_model_name": "DescriptionStyleModel",
      "_view_count": null,
      "_view_module": "@jupyter-widgets/base",
      "_view_module_version": "1.2.0",
      "_view_name": "StyleView",
      "description_width": ""
     }
    },
    "ce9331d6bf204435868d2109f9f61782": {
     "model_module": "@jupyter-widgets/controls",
     "model_module_version": "1.5.0",
     "model_name": "ProgressStyleModel",
     "state": {
      "_model_module": "@jupyter-widgets/controls",
      "_model_module_version": "1.5.0",
      "_model_name": "ProgressStyleModel",
      "_view_count": null,
      "_view_module": "@jupyter-widgets/base",
      "_view_module_version": "1.2.0",
      "_view_name": "StyleView",
      "bar_color": null,
      "description_width": ""
     }
    },
    "d2d0ca84a905440fa22020744e765955": {
     "model_module": "@jupyter-widgets/controls",
     "model_module_version": "1.5.0",
     "model_name": "HBoxModel",
     "state": {
      "_dom_classes": [],
      "_model_module": "@jupyter-widgets/controls",
      "_model_module_version": "1.5.0",
      "_model_name": "HBoxModel",
      "_view_count": null,
      "_view_module": "@jupyter-widgets/controls",
      "_view_module_version": "1.5.0",
      "_view_name": "HBoxView",
      "box_style": "",
      "children": [
       "IPY_MODEL_feb07d9cb8f04c17b735eec1023c347b",
       "IPY_MODEL_326bf7a2161f4d029cca3d43f5b181dc",
       "IPY_MODEL_085aeeecd0634bfb82ffc2f38196c3c3"
      ],
      "layout": "IPY_MODEL_f8839dfb05954c4a974d1c6df8658d47"
     }
    },
    "f0ea89420d264d0787919f9cf0c1ecda": {
     "model_module": "@jupyter-widgets/controls",
     "model_module_version": "1.5.0",
     "model_name": "DescriptionStyleModel",
     "state": {
      "_model_module": "@jupyter-widgets/controls",
      "_model_module_version": "1.5.0",
      "_model_name": "DescriptionStyleModel",
      "_view_count": null,
      "_view_module": "@jupyter-widgets/base",
      "_view_module_version": "1.2.0",
      "_view_name": "StyleView",
      "description_width": ""
     }
    },
    "f8839dfb05954c4a974d1c6df8658d47": {
     "model_module": "@jupyter-widgets/base",
     "model_module_version": "1.2.0",
     "model_name": "LayoutModel",
     "state": {
      "_model_module": "@jupyter-widgets/base",
      "_model_module_version": "1.2.0",
      "_model_name": "LayoutModel",
      "_view_count": null,
      "_view_module": "@jupyter-widgets/base",
      "_view_module_version": "1.2.0",
      "_view_name": "LayoutView",
      "align_content": null,
      "align_items": null,
      "align_self": null,
      "border": null,
      "bottom": null,
      "display": null,
      "flex": null,
      "flex_flow": null,
      "grid_area": null,
      "grid_auto_columns": null,
      "grid_auto_flow": null,
      "grid_auto_rows": null,
      "grid_column": null,
      "grid_gap": null,
      "grid_row": null,
      "grid_template_areas": null,
      "grid_template_columns": null,
      "grid_template_rows": null,
      "height": null,
      "justify_content": null,
      "justify_items": null,
      "left": null,
      "margin": null,
      "max_height": null,
      "max_width": null,
      "min_height": null,
      "min_width": null,
      "object_fit": null,
      "object_position": null,
      "order": null,
      "overflow": null,
      "overflow_x": null,
      "overflow_y": null,
      "padding": null,
      "right": null,
      "top": null,
      "visibility": null,
      "width": null
     }
    },
    "feb07d9cb8f04c17b735eec1023c347b": {
     "model_module": "@jupyter-widgets/controls",
     "model_module_version": "1.5.0",
     "model_name": "HTMLModel",
     "state": {
      "_dom_classes": [],
      "_model_module": "@jupyter-widgets/controls",
      "_model_module_version": "1.5.0",
      "_model_name": "HTMLModel",
      "_view_count": null,
      "_view_module": "@jupyter-widgets/controls",
      "_view_module_version": "1.5.0",
      "_view_name": "HTMLView",
      "description": "",
      "description_tooltip": null,
      "layout": "IPY_MODEL_2c937566c51f4ab7b77e33b3f9dd66d0",
      "placeholder": "​",
      "style": "IPY_MODEL_bc5756f097064b38962ffa2a3673f925",
      "value": "rummlu: 100%"
     }
    }
   }
  }
 },
 "nbformat": 4,
 "nbformat_minor": 4
}
